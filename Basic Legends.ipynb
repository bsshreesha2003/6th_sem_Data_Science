{
 "cells": [
  {
   "cell_type": "code",
   "execution_count": null,
   "id": "1d4d5a8f-cc74-4e7b-941e-913c275c3216",
   "metadata": {},
   "outputs": [],
   "source": [
    "import matplotlib.pyplot as plt\n",
    "x = [1, 2, 3, 4, 5]\n",
    "y = [1, 4, 9, 16, 25]\n",
    "plt.plot(x, y)\n",
    "plt.text(3, 15, 'Example Text', fontsize=12, color='orange')\n",
    "plt.xlabel('x')\n",
    "plt.ylabel('y')\n",
    "plt.title('Plot with Text')\n",
    "plt.show()"
   ]
  },
  {
   "cell_type": "code",
   "execution_count": null,
   "id": "54053fd8-427d-4e5d-b956-44c59550c829",
   "metadata": {},
   "outputs": [],
   "source": [
    "import matplotlib.pyplot as plt\n",
    "x = [1, 2, 3, 4, 5]\n",
    "y = [1, 4, 9, 16, 25]\n",
    "plt.scatter(x, y)\n",
    "for i, (x_val, y_val) in enumerate(zip(x, y)):\n",
    "    plt.text(x_val, y_val, f'({x_val}, {y_val})', fontsize=10, ha='right')\n",
    "plt.xlabel('X')\n",
    "plt.ylabel('Y')\n",
    "plt.title('Data Points with Labels')\n",
    "plt.grid(True)\n",
    "plt.show()"
   ]
  },
  {
   "cell_type": "code",
   "execution_count": null,
   "id": "17d20217-2e98-41b9-8dc6-a5e3a6f2d5fe",
   "metadata": {},
   "outputs": [],
   "source": [
    "import matplotlib.pyplot as plt\n",
    "x = [1, 2, 3, 4, 5]\n",
    "y1 = [1, 4, 9, 16, 25]\n",
    "y2 = [1, 2, 3, 4, 5]\n",
    "plt.plot(x, y1, label='y = x^2')\n",
    "plt.plot(x, y2, label='y = x')\n",
    "plt.xlabel('x')\n",
    "plt.ylabel('y')\n",
    "plt.title('Simple Plot')\n",
    "plt.legend()\n",
    "plt.show()"
   ]
  },
  {
   "cell_type": "code",
   "execution_count": null,
   "id": "ef330d00-6bb0-4d22-87a7-686b3f3f2780",
   "metadata": {},
   "outputs": [],
   "source": [
    "import matplotlib.pyplot as plt\n",
    "import numpy as np\n",
    "#y = mx + b\n",
    "x = [-5,5]\n",
    "m = [0.7, -1.25]\n",
    "b = [-2, 0.75]\n",
    "for i in range(0,len(m)):\n",
    "    y = m[i]*np.array(x)+b[i]\n",
    "    plt.plot(x,y, label= \"y = %sx+%s\" %(m[i],b[i]))\n",
    "plt.legend()\n",
    "plt.grid()\n",
    "plt.xlim(x)\n",
    "plt.ylim(x)\n",
    "axis = plt.gca()\n",
    "plt.plot(axis.get_xlim(),[0,0],'r--')\n",
    "plt.plot([0,0],axis.get_ylim(),'k--')\n",
    "plt.show()"
   ]
  },
  {
   "cell_type": "code",
   "execution_count": null,
   "id": "07038a30-0ecd-404a-abbf-d8034d703a7b",
   "metadata": {},
   "outputs": [],
   "source": [
    "#Simulate τ dy/dt = −y + Kpu; Kp = 3.0, τ = 2.0.\n",
    "import numpy as np\n",
    "import matplotlib.pyplot as plt\n",
    "from scipy.integrate import odeint\n",
    "Kp=3\n",
    "taup =2\n",
    "# Differential Equation :\n",
    "def model (y,t):\n",
    "    u = 1\n",
    "    return (-y + Kp * u)/ taup\n",
    "t3 = np. linspace (0,14 ,100 )\n",
    "y3 = odeint(model ,0,t3)\n",
    "plt.plot(t3 ,y3 ,'r-',linewidth =1, label ='ODE Integrator')\n",
    "plt.xlabel('Time')\n",
    "plt.ylabel('Response (y)')\n",
    "plt.legend(loc ='best')\n",
    "plt.show()"
   ]
  },
  {
   "cell_type": "code",
   "execution_count": null,
   "id": "feb866b5-fc9f-4c60-98b1-b9746de3b359",
   "metadata": {},
   "outputs": [],
   "source": [
    "import matplotlib.pyplot as plt\n",
    "x = [1, 2, 3, 4, 5]\n",
    "y = [1, 4, 9, 16, 25]\n",
    "plt.plot(x, y, marker='o', linestyle='-', color='b')\n",
    "plt.annotate('This point!', xy=(3, 9), xytext=(3.5, 15),\n",
    "             arrowprops=dict(facecolor='red', shrink=0.05))\n",
    "plt.xlabel('X')\n",
    "plt.ylabel('Y')\n",
    "plt.title('Annotated Plot')\n",
    "plt.grid(True)\n",
    "plt.show()"
   ]
  },
  {
   "cell_type": "code",
   "execution_count": null,
   "id": "f3075846-c053-423c-9932-5c6bc986a5b9",
   "metadata": {},
   "outputs": [],
   "source": [
    "import matplotlib.pyplot as plt\n",
    "x = [1, 2, 3, 4, 5]\n",
    "y = [1, 4, 9, 16, 25]\n",
    "plt.plot(x, y, marker='o', linestyle='-', color='b')\n",
    "for i, (x_val, y_val) in enumerate(zip(x, y)):\n",
    "    plt.text(x_val, y_val, f'({x_val}, {y_val})', fontsize=10, ha='right')\n",
    "annot_x, annot_y = 3, 9\n",
    "plt.annotate('This point!', xy=(annot_x, annot_y), xytext=(annot_x + 0.5, annot_y + 5),\n",
    "             arrowprops=dict(facecolor='black', shrink=0.05))\n",
    "plt.xlabel('X')\n",
    "plt.ylabel('Y')\n",
    "plt.title('Annotated Plot with Text Labels')\n",
    "plt.grid(True)\n",
    "plt.show()"
   ]
  },
  {
   "cell_type": "code",
   "execution_count": null,
   "id": "0c919b33-74c6-4b1f-8812-a3f674cd494c",
   "metadata": {},
   "outputs": [],
   "source": [
    "#SOLUTION CURVES USING IVP[INITIAL VALUE PROBLEM]\n",
    "#Solve dy/dt = −ky with parameter k = 0.3 and y(0) = 5.\n",
    "import numpy as np\n",
    "from scipy.integrate import odeint\n",
    "import matplotlib.pyplot as plt\n",
    "def model (y,t):\n",
    "    k=0.3\n",
    "    return -k*y\n",
    "y0=5\n",
    "t = np.linspace (0,20)\n",
    "y = odeint(model ,y0 ,t)\n",
    "plt.plot(t,y)\n",
    "plt.title('Solution of dy/dt=-ky; k=0.3, y(0)=5')\n",
    "plt.xlabel('time ')\n",
    "plt.ylabel('y(t)')\n",
    "plt.show()"
   ]
  },
  {
   "cell_type": "code",
   "execution_count": null,
   "id": "2fc67f83-add4-40ae-8949-c8a7fd9eb29f",
   "metadata": {},
   "outputs": [],
   "source": [
    "import matplotlib.pyplot as plt\n",
    "x = [1, 2, 3, 4, 5]\n",
    "y1 = [1, 4, 9, 16, 25]\n",
    "y2 = [1, 2, 3, 4, 5]\n",
    "plt.plot(x, y1, label='y = x^2', marker='o')\n",
    "plt.plot(x, y2, label='y = x', marker='s')\n",
    "for i, (x_val, y_val) in enumerate(zip(x, y1)):\n",
    "    plt.text(x_val, y_val, f'({x_val}, {y_val})', fontsize=10, ha='right')\n",
    "    \n",
    "for i, (x_val, y_val) in enumerate(zip(x, y2)):\n",
    "    plt.text(x_val, y_val, f'({x_val}, {y_val})', fontsize=10, ha='right')\n",
    "annot_x, annot_y = 3, 9\n",
    "plt.annotate('Intersection', xy=(annot_x, annot_y), xytext=(annot_x + 0.5, annot_y + 5),\n",
    "             arrowprops=dict(facecolor='black', shrink=0.05))\n",
    "plt.legend()\n",
    "plt.xlabel('X')\n",
    "plt.ylabel('Y')\n",
    "plt.title('Annotated Plot with Text Labels and Legend')\n",
    "plt.grid(True)\n",
    "plt.show()"
   ]
  }
 ],
 "metadata": {
  "kernelspec": {
   "display_name": "Python 3 (ipykernel)",
   "language": "python",
   "name": "python3"
  },
  "language_info": {
   "codemirror_mode": {
    "name": "ipython",
    "version": 3
   },
   "file_extension": ".py",
   "mimetype": "text/x-python",
   "name": "python",
   "nbconvert_exporter": "python",
   "pygments_lexer": "ipython3",
   "version": "3.11.7"
  }
 },
 "nbformat": 4,
 "nbformat_minor": 5
}

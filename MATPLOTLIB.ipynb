{
 "cells": [
  {
   "cell_type": "markdown",
   "id": "abed0485-f3a6-4a72-aa21-b5fa25e3e4b7",
   "metadata": {},
   "source": [
    "## MATPLOTLIB"
   ]
  },
  {
   "cell_type": "code",
   "execution_count": null,
   "id": "1a91fc31-36d8-4197-9b2b-873d649f8955",
   "metadata": {},
   "outputs": [],
   "source": [
    "import matplotlib.pyplot as plt\n",
    "x = 3\n",
    "y = 5\n",
    "plt.plot(x,y,\"ro\")\n",
    "plt.axis(\"square\")\n",
    "plt.axis([-6,6,-6,6])\n",
    "plt.grid()\n",
    "plt.show()"
   ]
  },
  {
   "cell_type": "code",
   "execution_count": null,
   "id": "3d675fee-df8b-425b-8152-5ea67a082309",
   "metadata": {},
   "outputs": [],
   "source": [
    "import matplotlib.pyplot as plt\n",
    "x = int(input(\"Enter the x coordinate: \"))\n",
    "y = int(input(\"Enter the y coordinate: \"))\n",
    "plt.plot(x,y,\"ro\")\n",
    "plt.axis(\"square\")\n",
    "plt.axis([-10,10,-10,10])\n",
    "plt.grid()\n",
    "plt.show()"
   ]
  },
  {
   "cell_type": "code",
   "execution_count": null,
   "id": "9b28748a-a253-414a-a207-ec7375f98680",
   "metadata": {},
   "outputs": [],
   "source": [
    "import matplotlib.pyplot as plt\n",
    "x = 8\n",
    "y = 5\n",
    "plt.plot(x,y,\"gs\")\n",
    "plt.axis(\"square\")\n",
    "plt.axis([-9,9,-9,9])\n",
    "plt.grid()\n",
    "plt.show()"
   ]
  },
  {
   "cell_type": "code",
   "execution_count": null,
   "id": "9bf6ae69-f2d1-429e-a32a-611f18c61631",
   "metadata": {},
   "outputs": [],
   "source": [
    "import matplotlib.pyplot as plt\n",
    "x = 8\n",
    "y = 8\n",
    "plt.plot(x,y,\"r8\") \n",
    "plt.axis([-9,9,-9,9]) #Overriding. Order place an important role. Change of output is seen\n",
    "plt.axis(\"square\")\n",
    "plt.grid()\n",
    "plt.show()"
   ]
  },
  {
   "cell_type": "code",
   "execution_count": null,
   "id": "35cb5bf4-c47c-4d8d-a01e-317be1289e6b",
   "metadata": {},
   "outputs": [],
   "source": [
    "import matplotlib.pyplot as plt\n",
    "x = [-4,5,3,6,8,9,8]\n",
    "y = [3,2,-1,5,7,4,8]\n",
    "for i in range(0,len(x)):\n",
    "    plt.plot(x[i],y[i],\"o\", label = \"point %s\" %(1+i))\n",
    "plt.axis(\"square\")\n",
    "plt.legend()\n",
    "plt.grid()\n",
    "plt.show()"
   ]
  },
  {
   "cell_type": "code",
   "execution_count": null,
   "id": "e5d77226-804f-41eb-bfe3-95a5930e7d25",
   "metadata": {},
   "outputs": [],
   "source": [
    "#LINE WIDTH SPECIFICATION\n",
    "import matplotlib.pyplot as plt\n",
    "p1 = [-3,-1]\n",
    "p2 = [4,4]\n",
    "plt.plot([p1[0],p2[0]], [p1[1],p2[1]],color=[.1,.2,.7], linewidth=5) #Indicates the RGB Colour for the graphs\n",
    "plt.axis(\"Square\") #Layout changed\n",
    "plt.axis([-6,6,-6,6]) #This shows the limit i.e x axis and y axis limits\n",
    "plt.show()"
   ]
  },
  {
   "cell_type": "code",
   "execution_count": null,
   "id": "4eeade32-ad6c-4cbb-b674-ee2f0d38f233",
   "metadata": {},
   "outputs": [],
   "source": [
    "import matplotlib.pyplot as plt\n",
    "plt.plot([0,2],[2,2],\"r\")\n",
    "plt.plot([0,2],[0,0],\"k\")\n",
    "plt.plot([0,0],[0,2],\"g\")\n",
    "plt.plot([2,2],[0,2],\"m\")\n",
    "plt.axis(\"Square\")\n",
    "plt.axis([-3,5,-3,5])\n",
    "plt.title(\"Colourful Square\")\n",
    "plt.show()\n",
    "'''plt.plot([3,5],[5,5],\"r\")\n",
    "plt.plot([3,5],[3,3],\"k\")\n",
    "plt.plot([3,3],[3,5],\"g\")\n",
    "plt.plot([5,5],[3,5],\"m\")\n",
    "plt.axis(\"Square\")\n",
    "plt.axis([-3,5,-3,5])\n",
    "plt.title(\"Colourful Square\")\n",
    "plt.show()'''"
   ]
  },
  {
   "cell_type": "code",
   "execution_count": null,
   "id": "58532173-71ab-4c30-86e1-7ed95eb862b5",
   "metadata": {},
   "outputs": [],
   "source": [
    "#First graph\n",
    "import matplotlib.pyplot as plt\n",
    "x = [1,2,3,4,6,7,8]\n",
    "y = [2,7,9,1,5,10 ,3]\n",
    "plt.plot(x, y, 'r+--')\n",
    "plt.xlabel('x - axis ')\n",
    "plt.ylabel('y - axis ')\n",
    "plt.title('My first graph !')\n",
    "plt.show()"
   ]
  },
  {
   "cell_type": "code",
   "execution_count": null,
   "id": "49947e73-1b1f-462b-a95d-d44409bad9b9",
   "metadata": {},
   "outputs": [],
   "source": [
    "import matplotlib.pyplot as plt\n",
    "x_values = [0, 1, 2, 3, 4, 5 ]\n",
    "y_values = [0, 1, 4, 9, 16,25]\n",
    "plt.plot(x_values, y_values)\n",
    "plt.show() "
   ]
  },
  {
   "cell_type": "code",
   "execution_count": null,
   "id": "8b75b77d-6845-4efe-9258-a9322e6e0293",
   "metadata": {},
   "outputs": [],
   "source": [
    "import matplotlib.pyplot as plt\n",
    "import numpy as np\n",
    "\n",
    "xpoints = np.array([0, 6])\n",
    "ypoints = np.array([0, 250])\n",
    "\n",
    "plt.plot(xpoints, ypoints)\n",
    "plt.show()"
   ]
  },
  {
   "cell_type": "code",
   "execution_count": null,
   "id": "ccd9d77b-6c0d-428c-893d-ad35314e0da6",
   "metadata": {},
   "outputs": [],
   "source": [
    "#1. Exponential Curves\n",
    "import numpy as np\n",
    "import matplotlib.pyplot as plt\n",
    "x = np.arange (-10 , 10 , 0.001) \n",
    "y = np.exp(x)\n",
    "plt.plot(x,y)\n",
    "plt.title(\" Exponential curve \")\n",
    "plt.grid()\n",
    "plt.show()"
   ]
  },
  {
   "cell_type": "code",
   "execution_count": null,
   "id": "1e03cc74-1b83-4405-bf82-6147c9f36350",
   "metadata": {},
   "outputs": [],
   "source": [
    "#Scatter Plot\n",
    "import matplotlib.pyplot as plt\n",
    "x = [1,2,3,4,6,7,8]\n",
    "y = [2,7,9,1,5,10 ,3] \n",
    "plt.scatter(x, y)\n",
    "plt.xlabel('x - axis ') \n",
    "plt.ylabel('y - axis ')\n",
    "plt.axis(\"Square\")\n",
    "plt.grid()\n",
    "plt.title('Scatter points ') \n",
    "plt.show() "
   ]
  },
  {
   "cell_type": "code",
   "execution_count": null,
   "id": "3113151a-ed82-40dc-8499-40a6a1ed1b44",
   "metadata": {},
   "outputs": [],
   "source": [
    "#Sine curve\n",
    "import numpy as np\n",
    "import matplotlib.pyplot as plt\n",
    "x = np. arange(-10 , 10 , 0.001)\n",
    "y1 = np.sin(x)\n",
    "plt.plot(x,y1)\n",
    "plt.title(\" sine curve \")\n",
    "plt.xlabel(\" Values of x\")\n",
    "plt.ylabel(\" Values of sin (x) \")\n",
    "plt.grid()\n",
    "plt.show()"
   ]
  },
  {
   "cell_type": "code",
   "execution_count": null,
   "id": "39a0b494-349b-416b-9332-85838923f4be",
   "metadata": {},
   "outputs": [],
   "source": [
    "#Simple Graph\n",
    "import matplotlib.pyplot as plt\n",
    "import numpy as np\n",
    "x = np.linspace (0, 2, 100)\n",
    "plt.plot(x, x, label ='linear ')\n",
    "plt.plot(x, x ** 2, label ='quadratic ')\n",
    "plt.plot(x, x ** 3, label ='cubic ') \n",
    "plt.xlabel('x label ')\n",
    "plt.ylabel('y label ')\n",
    "plt.title(\" Simple Plot \")\n",
    "plt.legend()\n",
    "plt.show()"
   ]
  },
  {
   "cell_type": "code",
   "execution_count": null,
   "id": "b22f4abf-cd0d-4a94-ac18-654ee14c7b1a",
   "metadata": {},
   "outputs": [],
   "source": [
    "import matplotlib.pyplot as plt\n",
    "import sympy as sym\n",
    "x,y = sym.symbols(\"x,y\")\n",
    "y = x**2-3*x\n",
    "for pnti in range(-11,12):\n",
    "    plt.plot(pnti, y.subs(x,pnti), \"o\")\n",
    "plt.xlabel(\"X\")\n",
    "plt.ylabel(\"f(x) = %s\" %y)\n",
    "plt.show()"
   ]
  },
  {
   "cell_type": "code",
   "execution_count": null,
   "id": "863f8472-f3d0-41e0-893b-407d4e8f7db3",
   "metadata": {},
   "outputs": [],
   "source": [
    "import matplotlib.pyplot as plt\n",
    "x = range(-20,21)\n",
    "for xi in x:\n",
    "    plt.plot([0,xi],[0,abs(xi)**(1/2)])\n",
    "plt.show()"
   ]
  },
  {
   "cell_type": "code",
   "execution_count": null,
   "id": "8795332e-2fbd-4178-a1fa-a1b7052646c0",
   "metadata": {},
   "outputs": [],
   "source": [
    "import matplotlib.pyplot as plt\n",
    "import sympy as sym\n",
    "x,y = sym.symbols(\"x,y\")\n",
    "y = x**2-3*x\n",
    "for pnti in range(-11,12):\n",
    "    plt.plot(pnti, y.subs(x,pnti), \"o\")\n",
    "plt.xlabel(\"X\")\n",
    "plt.ylabel(\"f(x) = %s\" %y)\n",
    "plt.show()"
   ]
  },
  {
   "cell_type": "code",
   "execution_count": null,
   "id": "4d548aeb-2231-48fc-9f89-45a97677704e",
   "metadata": {},
   "outputs": [],
   "source": [
    "import numpy as np\n",
    "import matplotlib.pyplot as plt\n",
    "\n",
    "\n",
    "fig = plt.figure()\n",
    "ax = plt.axes(projection='3d')\n"
   ]
  },
  {
   "cell_type": "code",
   "execution_count": null,
   "id": "fe1f1ee5-d87f-4063-91e9-7cb36e1fd089",
   "metadata": {},
   "outputs": [],
   "source": [
    "# importing mplot3d toolkits\n",
    "from mpl_toolkits import mplot3d\n",
    "import numpy as np\n",
    "import matplotlib.pyplot as plt\n",
    "\n",
    "fig = plt.figure()\n",
    "\n",
    "# syntax for 3-D projection\n",
    "ax = plt.axes(projection ='3d')\n",
    "\n",
    "# defining axes\n",
    "z = np.linspace(0, 1, 100)\n",
    "x = z * np.sin(25 * z)\n",
    "y = z * np.cos(25 * z)\n",
    "c = x + y\n",
    "ax.scatter(x, y, z, c = c)\n",
    "\n",
    "# syntax for plotting\n",
    "ax.set_title('3d Scatter plot geeks for geeks')\n",
    "plt.show()"
   ]
  },
  {
   "cell_type": "code",
   "execution_count": null,
   "id": "dd2639df-b508-4660-814a-11629259b8e2",
   "metadata": {},
   "outputs": [],
   "source": [
    "# importing libraries\n",
    "from mpl_toolkits import mplot3d\n",
    "import numpy as np\n",
    "import matplotlib.pyplot as plt\n",
    "\n",
    "# defining surface and axes\n",
    "x = np.outer(np.linspace(-2, 2, 10), np.ones(10))\n",
    "y = x.copy().T\n",
    "z = np.cos(x ** 2 + y ** 3)\n",
    "\n",
    "fig = plt.figure()\n",
    "\n",
    "# syntax for 3-D plotting\n",
    "ax = plt.axes(projection='3d')\n",
    "\n",
    "# syntax for plotting\n",
    "ax.plot_surface(x, y, z, cmap='viridis',\\\n",
    "\t\t\t\tedgecolor='green')\n",
    "ax.set_title('Surface plot')\n",
    "plt.show()"
   ]
  },
  {
   "cell_type": "markdown",
   "id": "fcc2657a-072b-41dd-a21b-dd036b3d9600",
   "metadata": {},
   "source": [
    "## PANDAS AND PANDA PLOTS"
   ]
  },
  {
   "cell_type": "code",
   "execution_count": null,
   "id": "ec3b003e-c87f-4ea3-b0c0-20bacf4e8043",
   "metadata": {},
   "outputs": [],
   "source": [
    "import pandas as pd\n",
    "a = [1, 7, 2]\n",
    "myvar = pd.Series(a)\n",
    "print(myvar)"
   ]
  },
  {
   "cell_type": "code",
   "execution_count": null,
   "id": "f1798958-6466-4b32-9df6-7d2d3fd9d452",
   "metadata": {},
   "outputs": [],
   "source": [
    "print(myvar[0]) #RETURNS THE FIRST VALUE OF THE SERIES"
   ]
  },
  {
   "cell_type": "code",
   "execution_count": null,
   "id": "b6d5a969-777f-46f8-8b1d-0e791b2c9289",
   "metadata": {},
   "outputs": [],
   "source": [
    "#CREATION OF INDEX ARGUMENTS\n",
    "import pandas as pd\n",
    "a = [1, 7, 2]\n",
    "myvar = pd.Series(a, index = [\"x\", \"y\", \"z\"])\n",
    "print(myvar)"
   ]
  },
  {
   "cell_type": "code",
   "execution_count": null,
   "id": "811a4e7b-19c3-4635-bbb4-00d977c641ca",
   "metadata": {},
   "outputs": [],
   "source": [
    "#To return the value of y\n",
    "print(myvar[\"y\"])"
   ]
  },
  {
   "cell_type": "code",
   "execution_count": null,
   "id": "ece545ce-504b-4349-aae7-68c747f12f9c",
   "metadata": {},
   "outputs": [],
   "source": [
    "#USING DICTIONARY TO CREATE PANDAS\n",
    "import pandas as pd\n",
    "calories = {\"day1\": 420, \"day2\": 380, \"day3\": 390}\n",
    "myvar = pd.Series(calories)\n",
    "print(myvar)"
   ]
  },
  {
   "cell_type": "code",
   "execution_count": null,
   "id": "721a02a2-b26d-4257-afc2-3179e54f88d7",
   "metadata": {},
   "outputs": [],
   "source": [
    "import pandas as pd\n",
    "calories = {\"day1\": 420, \"day2\": 380, \"day3\": 390}\n",
    "myvar = pd.Series(calories, index = [\"day1\", \"day2\"])\n",
    "print(myvar)"
   ]
  },
  {
   "cell_type": "code",
   "execution_count": null,
   "id": "52cd3ac5-654a-4c68-bc8e-8e3f1850b132",
   "metadata": {},
   "outputs": [],
   "source": [
    "#A simple DataDrame\n",
    "import pandas as pd\n",
    "data = {\n",
    "  \"calories\": [420, 380, 390],\n",
    "  \"duration\": [50, 40, 45]\n",
    "}\n",
    "#load data into a DataFrame object:\n",
    "df = pd.DataFrame(data)\n",
    "print(df"
   ]
  },
  {
   "cell_type": "code",
   "execution_count": null,
   "id": "f39e1ff5-d81c-426a-aea8-aa514b7fc1a5",
   "metadata": {},
   "outputs": [],
   "source": [
    "#refer to the row index:\n",
    "print(df.loc[0])"
   ]
  },
  {
   "cell_type": "code",
   "execution_count": null,
   "id": "2b2a3b75-31de-44db-a106-e55f60b71f1f",
   "metadata": {},
   "outputs": [],
   "source": [
    "#use a list of indexes:\n",
    "print(df.loc[[0, 1]])"
   ]
  },
  {
   "cell_type": "code",
   "execution_count": null,
   "id": "cc603aae-d0ad-404a-bc8a-6b1c4b3dd583",
   "metadata": {},
   "outputs": [],
   "source": [
    "#Indexing\n",
    "import pandas as pd\n",
    "data = {\n",
    "  \"calories\": [420, 380, 390],\n",
    "  \"duration\": [50, 40, 45]\n",
    "}\n",
    "df = pd.DataFrame(data, index = [\"day1\", \"day2\", \"day3\"])\n",
    "print(df) "
   ]
  },
  {
   "cell_type": "code",
   "execution_count": null,
   "id": "93d36f24-aabb-4ce5-9be6-411bedaf46cd",
   "metadata": {},
   "outputs": [],
   "source": [
    "import pandas as pd\n",
    "df = pd.read_csv('data.csv')\n",
    "print(df) \n",
    "'''Loads the .csv file to the program'''"
   ]
  },
  {
   "cell_type": "code",
   "execution_count": null,
   "id": "2444de78-0a56-4bbf-8aa0-235f734e19f6",
   "metadata": {},
   "outputs": [],
   "source": [
    "#CREATION OF DATAFRAMES FROM 2 SERIES\n",
    "import pandas as pd\n",
    "data = {\n",
    "  \"calories\": [420, 380, 390],\n",
    "  \"duration\": [50, 40, 45]\n",
    "}\n",
    "myvar = pd.DataFrame(data)\n",
    "print(myvar)"
   ]
  },
  {
   "cell_type": "code",
   "execution_count": null,
   "id": "6049ad54-5296-490b-85af-3ac8f03e1d72",
   "metadata": {},
   "outputs": [],
   "source": [
    "# Viewing the first few rows of DataFrame\n",
    "print(df.head())\n",
    "'''Functions like head(), tail(), and sample() allow you to view the top, bottom, or random sample of rows in the DataFrame.'''"
   ]
  },
  {
   "cell_type": "code",
   "execution_count": null,
   "id": "0de7a3fd-5364-4e49-b0c5-fed41cb7daac",
   "metadata": {},
   "outputs": [],
   "source": [
    "# Sorting DataFrame by 'Age' in descending order\n",
    "df_sorted = df.sort_values(by='Age', ascending=False)\n",
    "'''Sort the DataFrame by one or more columns'''"
   ]
  },
  {
   "cell_type": "code",
   "execution_count": null,
   "id": "da38f93c-7d33-4172-8c86-c7bcee3b0a11",
   "metadata": {},
   "outputs": [],
   "source": [
    "# Grouping data by 'Gender' and calculating mean age\n",
    "df_grouped = df.groupby('Gender')['Age'].mean()\n",
    "'''Group data based on one or more columns and perform aggregate functions like sum, mean, count, etc.'''"
   ]
  },
  {
   "cell_type": "code",
   "execution_count": null,
   "id": "62d3a2e6-22f2-4824-bd1b-40cde0b5459d",
   "metadata": {},
   "outputs": [],
   "source": [
    "# Merging two DataFrames based on a common column\n",
    "merged_df = pd.merge(df1, df2, on='common_column')\n",
    "'''Combine multiple DataFrames based on a common column or index.'''"
   ]
  },
  {
   "cell_type": "code",
   "execution_count": null,
   "id": "3822d8dd-a4c8-4211-b9c1-b5118396f9b8",
   "metadata": {},
   "outputs": [],
   "source": [
    "# Dropping rows with missing values\n",
    "df_cleaned = df.dropna()\n",
    "'''Functions like dropna() and fillna() are used to handle missing or null values in the DataFrame.'''"
   ]
  },
  {
   "cell_type": "markdown",
   "id": "722afb38-4c58-478b-ad00-0b93bcbedda9",
   "metadata": {},
   "source": [
    "## PANDAS PLOT"
   ]
  },
  {
   "cell_type": "code",
   "execution_count": null,
   "id": "30910406-fd02-4587-9483-0c74906aa9ad",
   "metadata": {},
   "outputs": [],
   "source": [
    "import pandas as pd\n",
    "import matplotlib.pyplot as plt\n",
    "# Creating a DataFrame\n",
    "data = {'x': range(10), 'y': [i**2 for i in range(10)]}\n",
    "df = pd.DataFrame(data)\n",
    "# Plotting a line chart\n",
    "df.plot(x='x', y='y')\n",
    "plt.xlabel('X')\n",
    "plt.ylabel('Y')\n",
    "plt.title('Line Plot')\n",
    "plt.show()"
   ]
  },
  {
   "cell_type": "code",
   "execution_count": null,
   "id": "fa791550-e65c-4d71-a680-1773080651ad",
   "metadata": {},
   "outputs": [],
   "source": [
    "# Plotting a scatter plot\n",
    "df.plot(kind='scatter', x='x', y='y')\n",
    "plt.xlabel('X')\n",
    "plt.ylabel('Y')\n",
    "plt.title('Scatter Plot')\n",
    "plt.show()"
   ]
  },
  {
   "cell_type": "code",
   "execution_count": null,
   "id": "14373aaf-b05f-48c7-aa3a-0f48d18b111d",
   "metadata": {},
   "outputs": [],
   "source": [
    "# Plotting a histogram\n",
    "df['y'].plot(kind='hist')\n",
    "plt.xlabel('Y')\n",
    "plt.ylabel('Frequency')\n",
    "plt.title('Histogram')\n",
    "plt.show()"
   ]
  },
  {
   "cell_type": "code",
   "execution_count": null,
   "id": "c7501d39-5cf9-4eb7-9531-c3e7060c9e3d",
   "metadata": {},
   "outputs": [],
   "source": [
    "# Plotting a box plot\n",
    "df.boxplot(column='y')\n",
    "plt.ylabel('Y')\n",
    "plt.title('Box Plot')\n",
    "plt.show()"
   ]
  },
  {
   "cell_type": "code",
   "execution_count": null,
   "id": "4f71a002-07ca-4cba-bf69-de761bcdce0f",
   "metadata": {},
   "outputs": [],
   "source": [
    "import pandas as pd\n",
    "import matplotlib.pyplot as plt\n",
    "# Creating a DataFrame with categorical data\n",
    "data = {'Category': ['A', 'B', 'C', 'D'], 'Values': [10, 20, 15, 25]}\n",
    "df_cat = pd.DataFrame(data)\n",
    "# Plotting a bar chart\n",
    "df_cat.plot(kind='bar', x='Category', y='Values', color='skyblue')\n",
    "plt.xlabel('Category')\n",
    "plt.ylabel('Values')\n",
    "plt.title('Bar Plot')\n",
    "plt.show()"
   ]
  },
  {
   "cell_type": "code",
   "execution_count": null,
   "id": "60942b1e-7d52-4ea4-acea-965dfdfc2b19",
   "metadata": {},
   "outputs": [],
   "source": [
    "# Plotting a pie chart\n",
    "df_cat.plot(kind='pie', y='Values', labels=df_cat['Category'], autopct='%1.1f%%', startangle=90)\n",
    "plt.axis('equal')  # Equal aspect ratio ensures that pie is drawn as a circle.\n",
    "plt.title('Pie Chart')\n",
    "plt.show()"
   ]
  }
 ],
 "metadata": {
  "kernelspec": {
   "display_name": "Python 3 (ipykernel)",
   "language": "python",
   "name": "python3"
  },
  "language_info": {
   "codemirror_mode": {
    "name": "ipython",
    "version": 3
   },
   "file_extension": ".py",
   "mimetype": "text/x-python",
   "name": "python",
   "nbconvert_exporter": "python",
   "pygments_lexer": "ipython3",
   "version": "3.11.7"
  }
 },
 "nbformat": 4,
 "nbformat_minor": 5
}
